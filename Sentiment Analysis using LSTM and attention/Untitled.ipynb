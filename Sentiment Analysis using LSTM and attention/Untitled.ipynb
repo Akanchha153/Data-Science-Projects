{
 "cells": [
  {
   "cell_type": "code",
   "execution_count": 1,
   "metadata": {},
   "outputs": [],
   "source": [
    "import pandas as pd\n",
    "import numpy as np\n",
    "import tensorflow as tf"
   ]
  },
  {
   "cell_type": "code",
   "execution_count": 2,
   "metadata": {},
   "outputs": [
    {
     "name": "stdout",
     "output_type": "stream",
     "text": [
      "['.DS_Store', 'amazon_cells_labelled.txt', 'imdb_labelled.txt', 'readme.txt', 'yelp_labelled.txt']\n"
     ]
    }
   ],
   "source": [
    "import os\n",
    "print(os.listdir(\"C:\\\\Users\\\\user\\\\Documents\\\\jupyter..python\\\\deeplearning practice\\\\Attention\\\\sentiment_labelled_sentences\"))\n"
   ]
  },
  {
   "cell_type": "code",
   "execution_count": 3,
   "metadata": {},
   "outputs": [],
   "source": [
    "data1=open(\"C:\\\\Users\\\\user\\\\Documents\\\\jupyter..python\\\\deeplearning practice\\\\Attention\\\\sentiment_labelled_sentences\\\\amazon_cells_labelled.txt\")"
   ]
  },
  {
   "cell_type": "code",
   "execution_count": 4,
   "metadata": {},
   "outputs": [],
   "source": [
    "text=data1.read()"
   ]
  },
  {
   "cell_type": "code",
   "execution_count": 5,
   "metadata": {},
   "outputs": [],
   "source": [
    "import re\n",
    "sent=re.findall(r'.*\\n',text)"
   ]
  },
  {
   "cell_type": "code",
   "execution_count": 6,
   "metadata": {},
   "outputs": [],
   "source": [
    "sent=[(line[:-3],int(line[-2])) for line in sent]"
   ]
  },
  {
   "cell_type": "code",
   "execution_count": 7,
   "metadata": {},
   "outputs": [],
   "source": [
    "df=pd.DataFrame(sent,columns=['review','score'])"
   ]
  },
  {
   "cell_type": "code",
   "execution_count": 8,
   "metadata": {},
   "outputs": [],
   "source": [
    "t=tf.keras.preprocessing.text.Tokenizer()\n",
    "t.fit_on_texts(df.review)\n",
    "text_matrix=t.texts_to_sequences(df.review)"
   ]
  },
  {
   "cell_type": "code",
   "execution_count": 9,
   "metadata": {},
   "outputs": [],
   "source": [
    "len_mat=[]\n",
    "for i in range(len(text_matrix)):\n",
    "    len_mat.append(len(text_matrix[i]))"
   ]
  },
  {
   "cell_type": "code",
   "execution_count": 10,
   "metadata": {},
   "outputs": [],
   "source": [
    "from keras.preprocessing.sequence import pad_sequences\n",
    "text_pad=pad_sequences(text_matrix,maxlen=32,padding=\"post\")"
   ]
  },
  {
   "cell_type": "code",
   "execution_count": 23,
   "metadata": {},
   "outputs": [
    {
     "data": {
      "text/plain": [
       "array([  2,  22,   8, 816,   1, 155,   8,  70,   4,   8, 273,  55, 145,\n",
       "         8,  70, 339, 146,   0,   0,   0,   0,   0,   0,   0,   0,   0,\n",
       "         0,   0,   0,   0,   0,   0])"
      ]
     },
     "execution_count": 23,
     "metadata": {},
     "output_type": "execute_result"
    }
   ],
   "source": [
    "            text_pad[5]"
   ]
  },
  {
   "cell_type": "code",
   "execution_count": 11,
   "metadata": {
    "scrolled": true
   },
   "outputs": [],
   "source": [
    "inputs1=tf.keras.layers.Input(shape=(32,))\n",
    "x1=tf.keras.layers.Embedding(1879,32,\n",
    "             input_length=32,\n",
    "            embeddings_regularizer=tf.keras.regularizers.l2(.001))(inputs1)\n",
    "x1=tf.keras.layers.LSTM(100,dropout=0.3,recurrent_dropout=0.2)(x1)\n",
    "outputs1=tf.keras.layers.Dense(1,activation='sigmoid')(x1)\n",
    "Model=tf.keras.Sequential()\n",
    "model1=tf.keras.Model(inputs1,outputs1)"
   ]
  },
  {
   "cell_type": "code",
   "execution_count": 12,
   "metadata": {
    "scrolled": true
   },
   "outputs": [
    {
     "name": "stdout",
     "output_type": "stream",
     "text": [
      "Model: \"model\"\n",
      "_________________________________________________________________\n",
      "Layer (type)                 Output Shape              Param #   \n",
      "=================================================================\n",
      "input_1 (InputLayer)         [(None, 32)]              0         \n",
      "_________________________________________________________________\n",
      "embedding (Embedding)        (None, 32, 32)            60128     \n",
      "_________________________________________________________________\n",
      "lstm (LSTM)                  (None, 100)               53200     \n",
      "_________________________________________________________________\n",
      "dense (Dense)                (None, 1)                 101       \n",
      "=================================================================\n",
      "Total params: 113,429\n",
      "Trainable params: 113,429\n",
      "Non-trainable params: 0\n",
      "_________________________________________________________________\n"
     ]
    }
   ],
   "source": [
    "model1.summary()"
   ]
  },
  {
   "cell_type": "code",
   "execution_count": 13,
   "metadata": {},
   "outputs": [],
   "source": [
    "from sklearn.model_selection import train_test_split\n",
    "xtrain,xtest,ytrain,ytest=train_test_split(df.review,df.score,test_size=0.3,random_state=3)"
   ]
  },
  {
   "cell_type": "code",
   "execution_count": 14,
   "metadata": {},
   "outputs": [
    {
     "name": "stdout",
     "output_type": "stream",
     "text": [
      "Epoch 1/10\n"
     ]
    },
    {
     "name": "stderr",
     "output_type": "stream",
     "text": [
      "C:\\Users\\user\\AppData\\Roaming\\Python\\Python37\\site-packages\\tensorflow\\python\\framework\\indexed_slices.py:434: UserWarning: Converting sparse IndexedSlices to a dense Tensor of unknown shape. This may consume a large amount of memory.\n",
      "  \"Converting sparse IndexedSlices to a dense Tensor of unknown shape. \"\n"
     ]
    },
    {
     "name": "stdout",
     "output_type": "stream",
     "text": [
      "8/8 [==============================] - 3s 336ms/step - loss: 0.7354 - val_loss: 0.7267\n",
      "Epoch 2/10\n",
      "8/8 [==============================] - 1s 146ms/step - loss: 0.7171 - val_loss: 0.7132\n",
      "Epoch 3/10\n",
      "8/8 [==============================] - 1s 111ms/step - loss: 0.7058 - val_loss: 0.7051\n",
      "Epoch 4/10\n",
      "8/8 [==============================] - 1s 108ms/step - loss: 0.6994 - val_loss: 0.6994\n",
      "Epoch 5/10\n",
      "8/8 [==============================] - 1s 103ms/step - loss: 0.6958 - val_loss: 0.6968\n",
      "Epoch 6/10\n",
      "8/8 [==============================] - 1s 103ms/step - loss: 0.6940 - val_loss: 0.6976\n",
      "Epoch 7/10\n",
      "8/8 [==============================] - 1s 106ms/step - loss: 0.6932 - val_loss: 0.6957\n",
      "Epoch 8/10\n",
      "8/8 [==============================] - 1s 110ms/step - loss: 0.6819 - val_loss: 0.6541\n",
      "Epoch 9/10\n",
      "8/8 [==============================] - 1s 106ms/step - loss: 0.5349 - val_loss: 0.4873\n",
      "Epoch 10/10\n",
      "8/8 [==============================] - 1s 104ms/step - loss: 0.3274 - val_loss: 0.4733\n"
     ]
    },
    {
     "data": {
      "text/plain": [
       "<tensorflow.python.keras.callbacks.History at 0x1ff231d0>"
      ]
     },
     "execution_count": 14,
     "metadata": {},
     "output_type": "execute_result"
    }
   ],
   "source": [
    "model1.compile(optimizer='adam', loss=tf.keras.losses.BinaryCrossentropy())\n",
    "model1.fit(text_pad,df.score,batch_size=100,epochs=10,verbose=1,shuffle=True,validation_split=0.2)"
   ]
  },
  {
   "cell_type": "code",
   "execution_count": 15,
   "metadata": {},
   "outputs": [],
   "source": [
    "from tensorflow.keras.layers import Layer\n",
    "from tensorflow.keras import backend as k\n",
    "class attention(Layer):\n",
    "    def __init__(self):\n",
    "        super(attention,self).__init__()\n",
    "    def build(self,input_shape):\n",
    "        self.W=self.add_weight(name=\"att_weight\",shape=(input_shape[-1],1),initializer=\"normal\")\n",
    "        self.b=self.add_weight(name=\"att_bias\",shape=(input_shape[1],1),initializer=\"zeros\")\n",
    "        super(attention,self).build(input_shape)\n",
    "    def call(self,x):\n",
    "        e=k.squeeze(k.tanh(k.dot(x,self.W)+self.b),axis=-1)\n",
    "        a=k.softmax(e)\n",
    "        a=k.expand_dims(a,axis=-1)\n",
    "        output=x*a\n",
    "        return k.sum(output,axis=1)\n",
    "    def compute_output_shape(self,input_shape):\n",
    "        return (input_shape[0],input_shape[-1])\n",
    "\n",
    "    def get_config(self):\n",
    "        return super(attention,self).get_config()\n",
    "    "
   ]
  },
  {
   "cell_type": "code",
   "execution_count": 16,
   "metadata": {
    "scrolled": false
   },
   "outputs": [],
   "source": [
    "inputs1=tf.keras.layers.Input(shape=(32,))\n",
    "x1=tf.keras.layers.Embedding(1879,32,\n",
    "             input_length=32,\n",
    "            embeddings_regularizer=tf.keras.regularizers.l2(.001))(inputs1)\n",
    "x1=tf.keras.layers.LSTM(100,return_sequences=True,dropout=0.3,recurrent_dropout=0.2)(x1)\n",
    "att_out=attention()(x1)\n",
    "outputs1=tf.keras.layers.Dense(1,activation='sigmoid',trainable=True)(att_out)\n",
    "Model=tf.keras.Sequential()\n",
    "model1=tf.keras.Model(inputs1,outputs1)"
   ]
  },
  {
   "cell_type": "code",
   "execution_count": 17,
   "metadata": {},
   "outputs": [
    {
     "name": "stdout",
     "output_type": "stream",
     "text": [
      "Model: \"model_1\"\n",
      "_________________________________________________________________\n",
      "Layer (type)                 Output Shape              Param #   \n",
      "=================================================================\n",
      "input_2 (InputLayer)         [(None, 32)]              0         \n",
      "_________________________________________________________________\n",
      "embedding_1 (Embedding)      (None, 32, 32)            60128     \n",
      "_________________________________________________________________\n",
      "lstm_1 (LSTM)                (None, 32, 100)           53200     \n",
      "_________________________________________________________________\n",
      "attention (attention)        (None, 100)               132       \n",
      "_________________________________________________________________\n",
      "dense_1 (Dense)              (None, 1)                 101       \n",
      "=================================================================\n",
      "Total params: 113,561\n",
      "Trainable params: 113,561\n",
      "Non-trainable params: 0\n",
      "_________________________________________________________________\n"
     ]
    }
   ],
   "source": [
    "model1.summary()"
   ]
  },
  {
   "cell_type": "code",
   "execution_count": 18,
   "metadata": {},
   "outputs": [],
   "source": [
    "from sklearn.model_selection import train_test_split\n",
    "xtrain,xtest,ytrain,ytest=train_test_split(df.review,df.score,test_size=0.3,random_state=3)"
   ]
  },
  {
   "cell_type": "code",
   "execution_count": 20,
   "metadata": {},
   "outputs": [
    {
     "name": "stdout",
     "output_type": "stream",
     "text": [
      "Epoch 1/50\n",
      "8/8 [==============================] - 2s 236ms/step - loss: 0.1052 - val_loss: 0.5400\n",
      "Epoch 2/50\n",
      "8/8 [==============================] - 1s 134ms/step - loss: 0.0832 - val_loss: 0.6676\n",
      "Epoch 3/50\n",
      "8/8 [==============================] - 1s 107ms/step - loss: 0.0516 - val_loss: 0.7465\n",
      "Epoch 4/50\n",
      "8/8 [==============================] - 1s 105ms/step - loss: 0.0568 - val_loss: 0.6751\n",
      "Epoch 5/50\n",
      "8/8 [==============================] - 1s 107ms/step - loss: 0.0419 - val_loss: 0.5985\n",
      "Epoch 6/50\n",
      "8/8 [==============================] - 1s 108ms/step - loss: 0.0436 - val_loss: 0.6031\n",
      "Epoch 7/50\n",
      "8/8 [==============================] - 1s 107ms/step - loss: 0.0382 - val_loss: 0.8823\n",
      "Epoch 8/50\n",
      "8/8 [==============================] - 1s 110ms/step - loss: 0.0301 - val_loss: 0.8901\n",
      "Epoch 9/50\n",
      "8/8 [==============================] - 1s 111ms/step - loss: 0.0235 - val_loss: 0.6745\n",
      "Epoch 10/50\n",
      "8/8 [==============================] - 1s 110ms/step - loss: 0.0249 - val_loss: 0.7891\n",
      "Epoch 11/50\n",
      "8/8 [==============================] - 1s 128ms/step - loss: 0.0174 - val_loss: 0.8350\n",
      "Epoch 12/50\n",
      "8/8 [==============================] - 1s 111ms/step - loss: 0.0245 - val_loss: 0.7943\n",
      "Epoch 13/50\n",
      "8/8 [==============================] - 1s 119ms/step - loss: 0.0138 - val_loss: 0.8621\n",
      "Epoch 14/50\n",
      "8/8 [==============================] - 1s 117ms/step - loss: 0.0194 - val_loss: 0.7352\n",
      "Epoch 15/50\n",
      "8/8 [==============================] - 1s 119ms/step - loss: 0.0172 - val_loss: 0.8822\n",
      "Epoch 16/50\n",
      "8/8 [==============================] - 1s 115ms/step - loss: 0.0176 - val_loss: 1.1857\n",
      "Epoch 17/50\n",
      "8/8 [==============================] - 1s 119ms/step - loss: 0.0271 - val_loss: 1.0114\n",
      "Epoch 18/50\n",
      "8/8 [==============================] - 1s 115ms/step - loss: 0.0242 - val_loss: 0.6407\n",
      "Epoch 19/50\n",
      "8/8 [==============================] - 1s 119ms/step - loss: 0.0139 - val_loss: 0.9707\n",
      "Epoch 20/50\n",
      "8/8 [==============================] - 1s 117ms/step - loss: 0.0117 - val_loss: 1.1920\n",
      "Epoch 21/50\n",
      "8/8 [==============================] - 1s 118ms/step - loss: 0.0089 - val_loss: 1.2827\n",
      "Epoch 22/50\n",
      "8/8 [==============================] - 1s 118ms/step - loss: 0.0235 - val_loss: 1.1073\n",
      "Epoch 23/50\n",
      "8/8 [==============================] - 1s 122ms/step - loss: 0.0139 - val_loss: 0.8022\n",
      "Epoch 24/50\n",
      "8/8 [==============================] - 1s 117ms/step - loss: 0.0148 - val_loss: 0.9344\n",
      "Epoch 25/50\n",
      "8/8 [==============================] - 1s 121ms/step - loss: 0.0111 - val_loss: 1.0940\n",
      "Epoch 26/50\n",
      "8/8 [==============================] - 1s 119ms/step - loss: 0.0120 - val_loss: 1.1698\n",
      "Epoch 27/50\n",
      "8/8 [==============================] - 1s 118ms/step - loss: 0.0209 - val_loss: 1.1463\n",
      "Epoch 28/50\n",
      "8/8 [==============================] - 1s 129ms/step - loss: 0.0194 - val_loss: 1.0850\n",
      "Epoch 29/50\n",
      "8/8 [==============================] - 1s 126ms/step - loss: 0.0323 - val_loss: 1.1483\n",
      "Epoch 30/50\n",
      "8/8 [==============================] - 1s 130ms/step - loss: 0.0291 - val_loss: 1.4700\n",
      "Epoch 31/50\n",
      "8/8 [==============================] - 1s 124ms/step - loss: 0.0433 - val_loss: 1.1742\n",
      "Epoch 32/50\n",
      "8/8 [==============================] - 1s 127ms/step - loss: 0.0272 - val_loss: 0.7620\n",
      "Epoch 33/50\n",
      "8/8 [==============================] - 1s 124ms/step - loss: 0.0255 - val_loss: 1.0160\n",
      "Epoch 34/50\n",
      "8/8 [==============================] - 1s 122ms/step - loss: 0.0264 - val_loss: 1.2268\n",
      "Epoch 35/50\n",
      "8/8 [==============================] - 1s 118ms/step - loss: 0.0121 - val_loss: 1.2416\n",
      "Epoch 36/50\n",
      "8/8 [==============================] - 1s 124ms/step - loss: 0.0132 - val_loss: 1.2612\n",
      "Epoch 37/50\n",
      "8/8 [==============================] - 1s 124ms/step - loss: 0.0131 - val_loss: 1.2947\n",
      "Epoch 38/50\n",
      "8/8 [==============================] - 1s 118ms/step - loss: 0.0133 - val_loss: 1.2171\n",
      "Epoch 39/50\n",
      "8/8 [==============================] - 1s 117ms/step - loss: 0.0142 - val_loss: 1.2434\n",
      "Epoch 40/50\n",
      "8/8 [==============================] - 1s 124ms/step - loss: 0.0114 - val_loss: 1.3464\n",
      "Epoch 41/50\n",
      "8/8 [==============================] - 1s 123ms/step - loss: 0.0134 - val_loss: 1.3562\n",
      "Epoch 42/50\n",
      "8/8 [==============================] - 1s 122ms/step - loss: 0.0151 - val_loss: 0.9280\n",
      "Epoch 43/50\n",
      "8/8 [==============================] - 1s 120ms/step - loss: 0.0140 - val_loss: 0.9707\n",
      "Epoch 44/50\n",
      "8/8 [==============================] - 1s 122ms/step - loss: 0.0181 - val_loss: 1.0734\n",
      "Epoch 45/50\n",
      "8/8 [==============================] - 1s 122ms/step - loss: 0.0123 - val_loss: 1.2322\n",
      "Epoch 46/50\n",
      "8/8 [==============================] - 1s 124ms/step - loss: 0.0110 - val_loss: 1.3175\n",
      "Epoch 47/50\n",
      "8/8 [==============================] - 1s 121ms/step - loss: 0.0109 - val_loss: 1.3481\n",
      "Epoch 48/50\n",
      "8/8 [==============================] - 1s 123ms/step - loss: 0.0114 - val_loss: 1.3304\n",
      "Epoch 49/50\n",
      "8/8 [==============================] - 1s 120ms/step - loss: 0.0109 - val_loss: 1.3282\n",
      "Epoch 50/50\n",
      "8/8 [==============================] - 1s 122ms/step - loss: 0.0133 - val_loss: 1.2788\n"
     ]
    },
    {
     "data": {
      "text/plain": [
       "<tensorflow.python.keras.callbacks.History at 0x23e605c0>"
      ]
     },
     "execution_count": 20,
     "metadata": {},
     "output_type": "execute_result"
    }
   ],
   "source": [
    "model1.compile(optimizer='adam', loss=tf.keras.losses.BinaryCrossentropy())\n",
    "model1.fit(text_pad,df.score,batch_size=100,epochs=50,verbose=1,shuffle=True,validation_split=0.2)"
   ]
  },
  {
   "cell_type": "code",
   "execution_count": null,
   "metadata": {},
   "outputs": [],
   "source": []
  }
 ],
 "metadata": {
  "kernelspec": {
   "display_name": "Python 3",
   "language": "python",
   "name": "python3"
  },
  "language_info": {
   "codemirror_mode": {
    "name": "ipython",
    "version": 3
   },
   "file_extension": ".py",
   "mimetype": "text/x-python",
   "name": "python",
   "nbconvert_exporter": "python",
   "pygments_lexer": "ipython3",
   "version": "3.7.1"
  }
 },
 "nbformat": 4,
 "nbformat_minor": 2
}
